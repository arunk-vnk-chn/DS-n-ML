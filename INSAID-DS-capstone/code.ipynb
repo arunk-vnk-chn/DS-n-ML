{
  "nbformat": 4,
  "nbformat_minor": 0,
  "metadata": {
    "kernelspec": {
      "display_name": "Python 3",
      "language": "python",
      "name": "python3"
    },
    "language_info": {
      "codemirror_mode": {
        "name": "ipython",
        "version": 3
      },
      "file_extension": ".py",
      "mimetype": "text/x-python",
      "name": "python",
      "nbconvert_exporter": "python",
      "pygments_lexer": "ipython3",
      "version": "3.6.5"
    },
    "colab": {
      "name": "INSAID DS capstone project.ipynb",
      "provenance": []
    }
  },
  "cells": [
    {
      "cell_type": "markdown",
      "metadata": {
        "id": "djjqQcY9prwL",
        "colab_type": "text"
      },
      "source": [
        "##INSAID Capstone project - group 1015"
      ]
    },
    {
      "cell_type": "markdown",
      "metadata": {
        "id": "Sb4LH81hY_IE",
        "colab_type": "text"
      },
      "source": [
        "###Installing and importing mysql.connector/python"
      ]
    },
    {
      "cell_type": "code",
      "metadata": {
        "id": "3cVnLKnES8bD",
        "colab_type": "code",
        "outputId": "9218468c-3eae-4ff2-968b-c3af19b19dd8",
        "colab": {
          "base_uri": "https://localhost:8080/",
          "height": 121
        }
      },
      "source": [
        "!pip install --user mysql-connector-python"
      ],
      "execution_count": 1,
      "outputs": [
        {
          "output_type": "stream",
          "text": [
            "Requirement already satisfied: mysql-connector-python in /root/.local/lib/python3.6/site-packages (8.0.19)\n",
            "Requirement already satisfied: dnspython==1.16.0 in /root/.local/lib/python3.6/site-packages (from mysql-connector-python) (1.16.0)\n",
            "Requirement already satisfied: protobuf==3.6.1 in /root/.local/lib/python3.6/site-packages (from mysql-connector-python) (3.6.1)\n",
            "Requirement already satisfied: setuptools in /usr/local/lib/python3.6/dist-packages (from protobuf==3.6.1->mysql-connector-python) (45.1.0)\n",
            "Requirement already satisfied: six>=1.9 in /usr/local/lib/python3.6/dist-packages (from protobuf==3.6.1->mysql-connector-python) (1.12.0)\n"
          ],
          "name": "stdout"
        }
      ]
    },
    {
      "cell_type": "code",
      "metadata": {
        "id": "259wDTCcUk4X",
        "colab_type": "code",
        "colab": {}
      },
      "source": [
        "import sys\n",
        "import mysql.connector as sql\n",
        "import pandas as pd\n",
        "import seaborn as sns\n",
        "import numpy as np\n",
        "import matplotlib.pyplot as plt\n",
        "import pandas_profiling as pp\n",
        "from google.colab import files\n",
        "\n",
        "%matplotlib inline                                                              \n",
        "\n",
        "import warnings                                                                 # Ignore warning related to pandas_profiling\n",
        "warnings.filterwarnings('ignore') \n",
        "\n",
        "pd.set_option('display.max_columns', 100)                                       # Display all dataframe columns in outputs (it has 27 columns, which is wider than the notebook)\n",
        "                                                                                # This sets it up to display with a horizontal scroll instead of hiding the middle columns"
      ],
      "execution_count": 0,
      "outputs": []
    },
    {
      "cell_type": "markdown",
      "metadata": {
        "id": "q6AUOUnqZQRS",
        "colab_type": "text"
      },
      "source": [
        "###Creating db connection"
      ]
    },
    {
      "cell_type": "code",
      "metadata": {
        "id": "sdh4SQTKUk0r",
        "colab_type": "code",
        "colab": {}
      },
      "source": [
        "capdb = sql.connect(host='cpanel.insaid.co', database='Capstone1', user='student', password='student')"
      ],
      "execution_count": 0,
      "outputs": []
    },
    {
      "cell_type": "markdown",
      "metadata": {
        "id": "UpniPrnRZW5C",
        "colab_type": "text"
      },
      "source": [
        "###Pulling data from SQL to Pandas df"
      ]
    },
    {
      "cell_type": "code",
      "metadata": {
        "id": "PK-uDH7OXbqL",
        "colab_type": "code",
        "outputId": "a9f21c72-2ef6-48a5-b669-d76479efe264",
        "colab": {
          "base_uri": "https://localhost:8080/",
          "height": 84
        }
      },
      "source": [
        "print(pd.read_sql(\"show tables\",con=capdb))"
      ],
      "execution_count": 4,
      "outputs": [
        {
          "output_type": "stream",
          "text": [
            "        Tables_in_Capstone1\n",
            "0               events_data\n",
            "1          gender_age_train\n",
            "2  phone_brand_device_model\n"
          ],
          "name": "stdout"
        }
      ]
    },
    {
      "cell_type": "code",
      "metadata": {
        "id": "6W1ITUZvOgLM",
        "colab_type": "code",
        "outputId": "1abbc271-278c-47ed-f5cc-9a981c5d4319",
        "colab": {
          "base_uri": "https://localhost:8080/",
          "height": 151
        }
      },
      "source": [
        "print(pd.read_sql(\"describe events_data\",con=capdb))"
      ],
      "execution_count": 5,
      "outputs": [
        {
          "output_type": "stream",
          "text": [
            "       Field         Type Null Key Default Extra\n",
            "0   event_id   bigint(20)   NO        None      \n",
            "1  device_id  bigint(255)  YES        None      \n",
            "2  timestamp     datetime   NO        None      \n",
            "3  longitude   float(8,6)  YES        None      \n",
            "4   latitude   float(8,6)  YES        None      \n",
            "5       city  varchar(50)   NO        None      \n",
            "6      state  varchar(50)   NO        None      \n"
          ],
          "name": "stdout"
        }
      ]
    },
    {
      "cell_type": "code",
      "metadata": {
        "id": "MuEkUW-tSH8f",
        "colab_type": "code",
        "outputId": "486e5b39-f252-418b-ad5c-b32a9ffbe726",
        "colab": {
          "base_uri": "https://localhost:8080/",
          "height": 101
        }
      },
      "source": [
        "print(pd.read_sql(\"describe gender_age_train\",con=capdb))"
      ],
      "execution_count": 6,
      "outputs": [
        {
          "output_type": "stream",
          "text": [
            "       Field           Type Null Key Default Extra\n",
            "0  device_id    bigint(255)   NO        None      \n",
            "1     gender  varchar(2555)   NO        None      \n",
            "2        age       int(255)   NO        None      \n",
            "3      group  varchar(2555)   NO        None      \n"
          ],
          "name": "stdout"
        }
      ]
    },
    {
      "cell_type": "code",
      "metadata": {
        "id": "KBMmRhMBZxXc",
        "colab_type": "code",
        "outputId": "0d4f35f6-e34b-4dd7-a10e-b664b6a78a7a",
        "colab": {
          "base_uri": "https://localhost:8080/",
          "height": 84
        }
      },
      "source": [
        "print(pd.read_sql(\"describe phone_brand_device_model\",con=capdb))"
      ],
      "execution_count": 7,
      "outputs": [
        {
          "output_type": "stream",
          "text": [
            "          Field           Type Null Key Default Extra\n",
            "0     device_id    bigint(255)   NO        None      \n",
            "1   phone_brand  varchar(2555)   NO        None      \n",
            "2  device_model  varchar(2555)   NO        None      \n"
          ],
          "name": "stdout"
        }
      ]
    },
    {
      "cell_type": "code",
      "metadata": {
        "id": "BtvmwrbeWzG_",
        "colab_type": "code",
        "outputId": "24ba96c1-227b-4c6b-f54d-c2c6dc528465",
        "colab": {
          "base_uri": "https://localhost:8080/",
          "height": 34
        }
      },
      "source": [
        "query = \"\"\"select *\n",
        "          from events_data\n",
        "          where state = 'delhi'\"\"\"\n",
        "events_data_delhi = pd.read_sql(query, con=capdb)\n",
        "events_data_delhi.shape"
      ],
      "execution_count": 8,
      "outputs": [
        {
          "output_type": "execute_result",
          "data": {
            "text/plain": [
              "(751733, 7)"
            ]
          },
          "metadata": {
            "tags": []
          },
          "execution_count": 8
        }
      ]
    },
    {
      "cell_type": "code",
      "metadata": {
        "id": "OfdhYpNl6Qir",
        "colab_type": "code",
        "colab": {
          "base_uri": "https://localhost:8080/",
          "height": 151
        },
        "outputId": "a7964aec-d47e-44e6-bd70-a8e9bc6b6529"
      },
      "source": [
        "events_data_delhi.dtypes"
      ],
      "execution_count": 9,
      "outputs": [
        {
          "output_type": "execute_result",
          "data": {
            "text/plain": [
              "event_id              int64\n",
              "device_id           float64\n",
              "timestamp    datetime64[ns]\n",
              "longitude           float64\n",
              "latitude            float64\n",
              "city                 object\n",
              "state                object\n",
              "dtype: object"
            ]
          },
          "metadata": {
            "tags": []
          },
          "execution_count": 9
        }
      ]
    },
    {
      "cell_type": "code",
      "metadata": {
        "id": "Zu6Ngt1WSWDN",
        "colab_type": "code",
        "outputId": "58b9b298-c6f9-4927-c619-a65001324eaf",
        "colab": {
          "base_uri": "https://localhost:8080/",
          "height": 34
        }
      },
      "source": [
        "query = \"\"\"select *\n",
        "          from gender_age_train\"\"\"\n",
        "gender_age_train = pd.read_sql(query, con=capdb)\n",
        "gender_age_train.shape"
      ],
      "execution_count": 10,
      "outputs": [
        {
          "output_type": "execute_result",
          "data": {
            "text/plain": [
              "(74645, 4)"
            ]
          },
          "metadata": {
            "tags": []
          },
          "execution_count": 10
        }
      ]
    },
    {
      "cell_type": "code",
      "metadata": {
        "id": "uSPAvm7gSWQ5",
        "colab_type": "code",
        "outputId": "f1ebb9ad-c233-4679-965e-0f3d05b185b7",
        "colab": {
          "base_uri": "https://localhost:8080/",
          "height": 34
        }
      },
      "source": [
        "query = \"\"\"select *\n",
        "          from phone_brand_device_model\"\"\"\n",
        "phone_brand_device_model = pd.read_sql(query, con=capdb)\n",
        "phone_brand_device_model.shape"
      ],
      "execution_count": 11,
      "outputs": [
        {
          "output_type": "execute_result",
          "data": {
            "text/plain": [
              "(87726, 3)"
            ]
          },
          "metadata": {
            "tags": []
          },
          "execution_count": 11
        }
      ]
    },
    {
      "cell_type": "code",
      "metadata": {
        "id": "rUlWbBAkdKbk",
        "colab_type": "code",
        "colab": {}
      },
      "source": [
        "pp.ProfileReport(events_data_delhi).to_file(outputfile='events_profile.html')\n",
        "pp.ProfileReport(gender_age_train).to_file(outputfile='gender_age_train_profile.html')\n",
        "pp.ProfileReport(phone_brand_device_model).to_file(outputfile='phone_brand_device_model.html')\n",
        "\n",
        "files.download('events_profile.html')\n",
        "files.download('gender_age_train_profile.html')\n",
        "files.download('phone_brand_device_model.html')"
      ],
      "execution_count": 0,
      "outputs": []
    },
    {
      "cell_type": "code",
      "metadata": {
        "id": "qUkCB1v_W-wz",
        "colab_type": "code",
        "colab": {}
      },
      "source": [
        "evnt_join_gndr = pd.merge(left = events_data_delhi,\n",
        "                  right = gender_age_train,\n",
        "                  how ='left',\n",
        "                  left_on = 'device_id',\n",
        "                  right_on = 'device_id',\n",
        "                  sort = False,\n",
        "                  suffixes = ('_evnt','_gndr'),\n",
        "                  indicator='ind_evnt_join_gndr',\n",
        "                  validate = ('many_to_one')\n",
        "                  )"
      ],
      "execution_count": 0,
      "outputs": []
    },
    {
      "cell_type": "code",
      "metadata": {
        "id": "rHTEoWeNg9c_",
        "colab_type": "code",
        "colab": {
          "base_uri": "https://localhost:8080/",
          "height": 178
        },
        "outputId": "916f1de0-26eb-44cb-ea21-d471ee37ffa3"
      },
      "source": [
        "pp.ProfileReport(evnt_join_gndr).to_file(outputfile='evnt_join_gndr.html')\n",
        "files.download('evnt_join_gndr.html')"
      ],
      "execution_count": 14,
      "outputs": [
        {
          "output_type": "error",
          "ename": "NameError",
          "evalue": "ignored",
          "traceback": [
            "\u001b[0;31m---------------------------------------------------------------------------\u001b[0m",
            "\u001b[0;31mNameError\u001b[0m                                 Traceback (most recent call last)",
            "\u001b[0;32m<ipython-input-14-4c042ad36d95>\u001b[0m in \u001b[0;36m<module>\u001b[0;34m()\u001b[0m\n\u001b[0;32m----> 1\u001b[0;31m \u001b[0mprofile\u001b[0m \u001b[0;34m=\u001b[0m \u001b[0mpandas_profiling\u001b[0m\u001b[0;34m.\u001b[0m\u001b[0mProfileReport\u001b[0m\u001b[0;34m(\u001b[0m\u001b[0mevnt_join_gndr\u001b[0m\u001b[0;34m)\u001b[0m\u001b[0;34m.\u001b[0m\u001b[0mto_file\u001b[0m\u001b[0;34m(\u001b[0m\u001b[0moutputfile\u001b[0m\u001b[0;34m=\u001b[0m\u001b[0;34m'evnt_join_gndr.html'\u001b[0m\u001b[0;34m)\u001b[0m\u001b[0;34m\u001b[0m\u001b[0;34m\u001b[0m\u001b[0m\n\u001b[0m\u001b[1;32m      2\u001b[0m \u001b[0mfiles\u001b[0m\u001b[0;34m.\u001b[0m\u001b[0mdownload\u001b[0m\u001b[0;34m(\u001b[0m\u001b[0;34m'evnt_join_gndr.html'\u001b[0m\u001b[0;34m)\u001b[0m\u001b[0;34m\u001b[0m\u001b[0;34m\u001b[0m\u001b[0m\n",
            "\u001b[0;31mNameError\u001b[0m: name 'pandas_profiling' is not defined"
          ]
        }
      ]
    },
    {
      "cell_type": "code",
      "metadata": {
        "id": "a-9vhmYCZbNd",
        "colab_type": "code",
        "colab": {}
      },
      "source": [
        "phone_brand_device_model.rename(columns = {'device_id':'device_id_mdl'}, inplace = True) \n",
        "\n",
        "capstone_data = pd.merge(left = df_merge_1,\n",
        "                         right = phone_brand_device_model,\n",
        "                         how ='left',\n",
        "                         left_on = 'device_id_evnt',\n",
        "                         right_on = 'device_id_mdl',\n",
        "                         sort = False,\n",
        "                         suffixes = ('_evntgndr','_mdl'),\n",
        "                         indicator='ind_evntgndr_join_mdl',\n",
        "                         validate = ('many_to_one')\n",
        "                         )"
      ],
      "execution_count": 0,
      "outputs": []
    },
    {
      "cell_type": "markdown",
      "metadata": {
        "id": "WygbzjSqpli3",
        "colab_type": "text"
      },
      "source": [
        "### Closing db connection"
      ]
    },
    {
      "cell_type": "code",
      "metadata": {
        "id": "G3yMvVMhpiOr",
        "colab_type": "code",
        "colab": {}
      },
      "source": [
        "capdb.close()"
      ],
      "execution_count": 0,
      "outputs": []
    }
  ]
}