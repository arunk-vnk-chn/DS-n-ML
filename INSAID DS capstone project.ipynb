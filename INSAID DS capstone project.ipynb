{
  "nbformat": 4,
  "nbformat_minor": 0,
  "metadata": {
    "kernelspec": {
      "display_name": "Python 3",
      "language": "python",
      "name": "python3"
    },
    "language_info": {
      "codemirror_mode": {
        "name": "ipython",
        "version": 3
      },
      "file_extension": ".py",
      "mimetype": "text/x-python",
      "name": "python",
      "nbconvert_exporter": "python",
      "pygments_lexer": "ipython3",
      "version": "3.6.5"
    },
    "colab": {
      "name": "INSAID DS capstone project.ipynb",
      "provenance": []
    }
  },
  "cells": [
    {
      "cell_type": "markdown",
      "metadata": {
        "id": "djjqQcY9prwL",
        "colab_type": "text"
      },
      "source": [
        "##INSAID Capstone project - group 1015"
      ]
    },
    {
      "cell_type": "markdown",
      "metadata": {
        "id": "Sb4LH81hY_IE",
        "colab_type": "text"
      },
      "source": [
        "###Installing and importing mysql.connector/python"
      ]
    },
    {
      "cell_type": "code",
      "metadata": {
        "id": "3cVnLKnES8bD",
        "colab_type": "code",
        "outputId": "4a3c1f14-e3ac-4abc-ab17-5325eaf145d8",
        "colab": {
          "base_uri": "https://localhost:8080/",
          "height": 121
        }
      },
      "source": [
        "!pip install --user mysql-connector-python"
      ],
      "execution_count": 294,
      "outputs": [
        {
          "output_type": "stream",
          "text": [
            "Requirement already satisfied: mysql-connector-python in /root/.local/lib/python3.6/site-packages (8.0.19)\n",
            "Requirement already satisfied: dnspython==1.16.0 in /root/.local/lib/python3.6/site-packages (from mysql-connector-python) (1.16.0)\n",
            "Requirement already satisfied: protobuf==3.6.1 in /root/.local/lib/python3.6/site-packages (from mysql-connector-python) (3.6.1)\n",
            "Requirement already satisfied: setuptools in /usr/local/lib/python3.6/dist-packages (from protobuf==3.6.1->mysql-connector-python) (45.1.0)\n",
            "Requirement already satisfied: six>=1.9 in /usr/local/lib/python3.6/dist-packages (from protobuf==3.6.1->mysql-connector-python) (1.12.0)\n"
          ],
          "name": "stdout"
        }
      ]
    },
    {
      "cell_type": "code",
      "metadata": {
        "id": "259wDTCcUk4X",
        "colab_type": "code",
        "colab": {}
      },
      "source": [
        "import mysql.connector as sql\n",
        "import pandas as pd"
      ],
      "execution_count": 0,
      "outputs": []
    },
    {
      "cell_type": "markdown",
      "metadata": {
        "id": "q6AUOUnqZQRS",
        "colab_type": "text"
      },
      "source": [
        "###Creating db connection and storing in capdb"
      ]
    },
    {
      "cell_type": "code",
      "metadata": {
        "id": "sdh4SQTKUk0r",
        "colab_type": "code",
        "colab": {}
      },
      "source": [
        "capdb = sql.connect(host='cpanel.insaid.co', database='Capstone1', user='student', password='student')"
      ],
      "execution_count": 0,
      "outputs": []
    },
    {
      "cell_type": "markdown",
      "metadata": {
        "id": "UpniPrnRZW5C",
        "colab_type": "text"
      },
      "source": [
        "###Creating python cursor for executing mysql queries, checking tables, structures and count"
      ]
    },
    {
      "cell_type": "code",
      "metadata": {
        "id": "PK-uDH7OXbqL",
        "colab_type": "code",
        "outputId": "f4dd7d47-00a0-43a3-bfa0-28fd5c9c24ac",
        "colab": {
          "base_uri": "https://localhost:8080/",
          "height": 67
        }
      },
      "source": [
        "print(pd.read_sql(\"show tables\",con=capdb))"
      ],
      "execution_count": 298,
      "outputs": [
        {
          "output_type": "stream",
          "text": [
            "('events_data',)\n",
            "('gender_age_train',)\n",
            "('phone_brand_device_model',)\n"
          ],
          "name": "stdout"
        }
      ]
    },
    {
      "cell_type": "code",
      "metadata": {
        "id": "6W1ITUZvOgLM",
        "colab_type": "code",
        "colab": {}
      },
      "source": [
        "print(pd.read_sql(\"describe events_data\",con=capdb))"
      ],
      "execution_count": 0,
      "outputs": []
    },
    {
      "cell_type": "code",
      "metadata": {
        "id": "BtvmwrbeWzG_",
        "colab_type": "code",
        "colab": {}
      },
      "source": [
        "query = \"\"\"select *\n",
        "          from events_data\n",
        "          where state_id = 'delhi'\"\"\"\n",
        "eventsData = pd.read_sql(query, con=db_connection)"
      ],
      "execution_count": 0,
      "outputs": []
    },
    {
      "cell_type": "code",
      "metadata": {
        "id": "KBMmRhMBZxXc",
        "colab_type": "code",
        "colab": {}
      },
      "source": [
        "print(pd.read_sql(\"describe phone_brand_device_model\",con=capdb))"
      ],
      "execution_count": 0,
      "outputs": []
    },
    {
      "cell_type": "markdown",
      "metadata": {
        "id": "WygbzjSqpli3",
        "colab_type": "text"
      },
      "source": [
        "### Closing db connection"
      ]
    },
    {
      "cell_type": "code",
      "metadata": {
        "id": "G3yMvVMhpiOr",
        "colab_type": "code",
        "colab": {}
      },
      "source": [
        "capdb.close()"
      ],
      "execution_count": 0,
      "outputs": []
    }
  ]
}