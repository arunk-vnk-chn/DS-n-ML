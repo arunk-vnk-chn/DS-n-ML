{
  "nbformat": 4,
  "nbformat_minor": 0,
  "metadata": {
    "kernelspec": {
      "display_name": "Python 3",
      "language": "python",
      "name": "python3"
    },
    "language_info": {
      "codemirror_mode": {
        "name": "ipython",
        "version": 3
      },
      "file_extension": ".py",
      "mimetype": "text/x-python",
      "name": "python",
      "nbconvert_exporter": "python",
      "pygments_lexer": "ipython3",
      "version": "3.6.5"
    },
    "colab": {
      "name": "INSAID DS capstone project.ipynb",
      "provenance": []
    }
  },
  "cells": [
    {
      "cell_type": "markdown",
      "metadata": {
        "id": "djjqQcY9prwL",
        "colab_type": "text"
      },
      "source": [
        "##INSAID Capstone project - group 1015"
      ]
    },
    {
      "cell_type": "markdown",
      "metadata": {
        "id": "Sb4LH81hY_IE",
        "colab_type": "text"
      },
      "source": [
        "###Installing and importing mysql.connector/python"
      ]
    },
    {
      "cell_type": "code",
      "metadata": {
        "id": "3cVnLKnES8bD",
        "colab_type": "code",
        "outputId": "3a9b7a1e-45fa-4a06-bc62-ef8f66146cbb",
        "colab": {
          "base_uri": "https://localhost:8080/",
          "height": 121
        }
      },
      "source": [
        "!pip install --user mysql-connector-python"
      ],
      "execution_count": 106,
      "outputs": [
        {
          "output_type": "stream",
          "text": [
            "Requirement already satisfied: mysql-connector-python in /root/.local/lib/python3.6/site-packages (8.0.19)\n",
            "Requirement already satisfied: protobuf==3.6.1 in /root/.local/lib/python3.6/site-packages (from mysql-connector-python) (3.6.1)\n",
            "Requirement already satisfied: dnspython==1.16.0 in /root/.local/lib/python3.6/site-packages (from mysql-connector-python) (1.16.0)\n",
            "Requirement already satisfied: setuptools in /usr/local/lib/python3.6/dist-packages (from protobuf==3.6.1->mysql-connector-python) (45.1.0)\n",
            "Requirement already satisfied: six>=1.9 in /usr/local/lib/python3.6/dist-packages (from protobuf==3.6.1->mysql-connector-python) (1.12.0)\n"
          ],
          "name": "stdout"
        }
      ]
    },
    {
      "cell_type": "code",
      "metadata": {
        "id": "259wDTCcUk4X",
        "colab_type": "code",
        "colab": {}
      },
      "source": [
        "import mysql.connector"
      ],
      "execution_count": 0,
      "outputs": []
    },
    {
      "cell_type": "markdown",
      "metadata": {
        "id": "q6AUOUnqZQRS",
        "colab_type": "text"
      },
      "source": [
        "###Creating db connection and storing in capdb"
      ]
    },
    {
      "cell_type": "code",
      "metadata": {
        "id": "sdh4SQTKUk0r",
        "colab_type": "code",
        "colab": {}
      },
      "source": [
        " capdbConfig = {\n",
        "     'host' : 'cpanel.insaid.co',\n",
        "     'user' : 'student',\n",
        "      'password' : 'student', \n",
        "      'database' : 'Capstone1',\n",
        "      'connection_timeout' : 180,\n",
        "      'use_pure' : False\n",
        "      #use_pure = False ensures the C extension is used for MySQL connection which is faster than pure python connection\n",
        " }\n",
        " capdb = mysql.connector.connect(**capdbConfig)"
      ],
      "execution_count": 0,
      "outputs": []
    },
    {
      "cell_type": "markdown",
      "metadata": {
        "id": "UpniPrnRZW5C",
        "colab_type": "text"
      },
      "source": [
        "###Creating python cursor for executing mysql queries, checking tables, structures and count"
      ]
    },
    {
      "cell_type": "code",
      "metadata": {
        "id": "BtvmwrbeWzG_",
        "colab_type": "code",
        "colab": {}
      },
      "source": [
        "capdbCursor = capdb.cursor()\n",
        "cursor.execute(\"SET max_allowed_packet=1073741824\") #setting max served packet size as 1 GB"
      ],
      "execution_count": 0,
      "outputs": []
    },
    {
      "cell_type": "code",
      "metadata": {
        "id": "PK-uDH7OXbqL",
        "colab_type": "code",
        "outputId": "808e2da9-188a-4d33-f2c1-327f441ed266",
        "colab": {
          "base_uri": "https://localhost:8080/",
          "height": 67
        }
      },
      "source": [
        "capdbCursor.execute(\"show tables\")\n",
        "capdbTables = capdbCursor.fetchall()\n",
        "for table in capdbTables:\n",
        "    print(table)"
      ],
      "execution_count": 110,
      "outputs": [
        {
          "output_type": "stream",
          "text": [
            "('events_data',)\n",
            "('gender_age_train',)\n",
            "('phone_brand_device_model',)\n"
          ],
          "name": "stdout"
        }
      ]
    },
    {
      "cell_type": "code",
      "metadata": {
        "id": "VDhWFdtPZhOD",
        "colab_type": "code",
        "colab": {
          "base_uri": "https://localhost:8080/",
          "height": 54
        },
        "outputId": "f71f5b19-0c6f-4e99-f22d-6c792e55bd00"
      },
      "source": [
        "capdbCursor.execute(\"describe events_data\")\n",
        "print(capdbCursor.fetchall())"
      ],
      "execution_count": 111,
      "outputs": [
        {
          "output_type": "stream",
          "text": [
            "[('event_id', 'bigint(20)', 'NO', '', None, ''), ('device_id', 'bigint(255)', 'YES', '', None, ''), ('timestamp', 'datetime', 'NO', '', None, ''), ('longitude', 'float(8,6)', 'YES', '', None, ''), ('latitude', 'float(8,6)', 'YES', '', None, ''), ('city', 'varchar(50)', 'NO', '', None, ''), ('state', 'varchar(50)', 'NO', '', None, '')]\n"
          ],
          "name": "stdout"
        }
      ]
    },
    {
      "cell_type": "code",
      "metadata": {
        "id": "c90zoH0Vcs-0",
        "colab_type": "code",
        "colab": {
          "base_uri": "https://localhost:8080/",
          "height": 34
        },
        "outputId": "01388728-a402-449a-8178-4ba212e0cd82"
      },
      "source": [
        "capdbCursor.execute(\"select count(*) from events_data where state = 'delhi'\")\n",
        "capdbRecords = capdbCursor.fetchall()\n",
        "for record in capdbRecords:\n",
        "    print(record)"
      ],
      "execution_count": 112,
      "outputs": [
        {
          "output_type": "stream",
          "text": [
            "(751733,)\n"
          ],
          "name": "stdout"
        }
      ]
    },
    {
      "cell_type": "code",
      "metadata": {
        "id": "KBMmRhMBZxXc",
        "colab_type": "code",
        "colab": {
          "base_uri": "https://localhost:8080/",
          "height": 54
        },
        "outputId": "6d5fb65f-45dc-45ba-9000-0070dddbbaae"
      },
      "source": [
        "capdbCursor.execute(\"describe phone_brand_device_model\")\n",
        "print(capdbCursor.fetchall())"
      ],
      "execution_count": 113,
      "outputs": [
        {
          "output_type": "stream",
          "text": [
            "[('device_id', 'bigint(255)', 'NO', '', None, ''), ('phone_brand', 'varchar(2555)', 'NO', '', None, ''), ('device_model', 'varchar(2555)', 'NO', '', None, '')]\n"
          ],
          "name": "stdout"
        }
      ]
    },
    {
      "cell_type": "code",
      "metadata": {
        "id": "q4arrw-IdB73",
        "colab_type": "code",
        "colab": {
          "base_uri": "https://localhost:8080/",
          "height": 128
        },
        "outputId": "2a24be42-2118-4a69-e587-939aeab8e2d9"
      },
      "source": [
        "query =   \"\"\"select count(*)\n",
        "            from phone_brand_device_model m\n",
        "            left join events_data e\n",
        "            on m.device_id = e.device_id\n",
        "            where e.state = 'delhi'\"\"\"\n",
        "capdbCursor.execute(query)\n",
        "capdbRecords = capdbCursor.fetchall()\n",
        "for record in capdbRecords:\n",
        "    print(record)"
      ],
      "execution_count": 114,
      "outputs": [
        {
          "output_type": "error",
          "ename": "SyntaxError",
          "evalue": "ignored",
          "traceback": [
            "\u001b[0;36m  File \u001b[0;32m\"<ipython-input-114-ef9c9fc392ae>\"\u001b[0;36m, line \u001b[0;32m6\u001b[0m\n\u001b[0;31m    capdbCursor.execute(query, set max_allowed_packet=67108864')\u001b[0m\n\u001b[0m                                                    ^\u001b[0m\n\u001b[0;31mSyntaxError\u001b[0m\u001b[0;31m:\u001b[0m invalid syntax\n"
          ]
        }
      ]
    },
    {
      "cell_type": "markdown",
      "metadata": {
        "id": "WygbzjSqpli3",
        "colab_type": "text"
      },
      "source": [
        "### Closing db connection"
      ]
    },
    {
      "cell_type": "code",
      "metadata": {
        "id": "G3yMvVMhpiOr",
        "colab_type": "code",
        "colab": {}
      },
      "source": [
        "capdb.close()"
      ],
      "execution_count": 0,
      "outputs": []
    }
  ]
}