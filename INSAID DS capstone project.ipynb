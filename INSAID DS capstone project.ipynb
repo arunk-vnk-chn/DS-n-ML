{
  "nbformat": 4,
  "nbformat_minor": 0,
  "metadata": {
    "kernelspec": {
      "display_name": "Python 3",
      "language": "python",
      "name": "python3"
    },
    "language_info": {
      "codemirror_mode": {
        "name": "ipython",
        "version": 3
      },
      "file_extension": ".py",
      "mimetype": "text/x-python",
      "name": "python",
      "nbconvert_exporter": "python",
      "pygments_lexer": "ipython3",
      "version": "3.6.5"
    },
    "colab": {
      "name": "INSAID DS capstone project.ipynb",
      "provenance": []
    }
  },
  "cells": [
    {
      "cell_type": "markdown",
      "metadata": {
        "id": "Sb4LH81hY_IE",
        "colab_type": "text"
      },
      "source": [
        "###Installing and importing mysql.connector/python"
      ]
    },
    {
      "cell_type": "code",
      "metadata": {
        "id": "3cVnLKnES8bD",
        "colab_type": "code",
        "outputId": "0392dd2f-d895-41be-80cc-79915644d5b6",
        "colab": {
          "base_uri": "https://localhost:8080/",
          "height": 121
        }
      },
      "source": [
        "!pip install --user mysql-connector-python"
      ],
      "execution_count": 45,
      "outputs": [
        {
          "output_type": "stream",
          "text": [
            "Requirement already satisfied: mysql-connector-python in /root/.local/lib/python3.6/site-packages (8.0.19)\n",
            "Requirement already satisfied: dnspython==1.16.0 in /root/.local/lib/python3.6/site-packages (from mysql-connector-python) (1.16.0)\n",
            "Requirement already satisfied: protobuf==3.6.1 in /root/.local/lib/python3.6/site-packages (from mysql-connector-python) (3.6.1)\n",
            "Requirement already satisfied: six>=1.9 in /usr/local/lib/python3.6/dist-packages (from protobuf==3.6.1->mysql-connector-python) (1.12.0)\n",
            "Requirement already satisfied: setuptools in /usr/local/lib/python3.6/dist-packages (from protobuf==3.6.1->mysql-connector-python) (45.1.0)\n"
          ],
          "name": "stdout"
        }
      ]
    },
    {
      "cell_type": "code",
      "metadata": {
        "id": "259wDTCcUk4X",
        "colab_type": "code",
        "colab": {}
      },
      "source": [
        "import mysql.connector"
      ],
      "execution_count": 0,
      "outputs": []
    },
    {
      "cell_type": "markdown",
      "metadata": {
        "id": "q6AUOUnqZQRS",
        "colab_type": "text"
      },
      "source": [
        "###Creating db connection and storing in capdb"
      ]
    },
    {
      "cell_type": "code",
      "metadata": {
        "id": "sdh4SQTKUk0r",
        "colab_type": "code",
        "colab": {}
      },
      "source": [
        " capdb = mysql.connector.connect(host='cpanel.insaid.co', user = 'student', password = 'student', database = 'Capstone1')"
      ],
      "execution_count": 0,
      "outputs": []
    },
    {
      "cell_type": "markdown",
      "metadata": {
        "id": "UpniPrnRZW5C",
        "colab_type": "text"
      },
      "source": [
        "###Creating python cursor for executing mysql queries, checking tables, structures and count"
      ]
    },
    {
      "cell_type": "code",
      "metadata": {
        "id": "BtvmwrbeWzG_",
        "colab_type": "code",
        "colab": {}
      },
      "source": [
        "capdbCursor = capdb.cursor()"
      ],
      "execution_count": 0,
      "outputs": []
    },
    {
      "cell_type": "code",
      "metadata": {
        "id": "PK-uDH7OXbqL",
        "colab_type": "code",
        "colab": {}
      },
      "source": [
        "capdbCursor.execute(\"show tables\")\n",
        "capdbTables = capdbCursor.fetchall()\n",
        "for table in capdbTables:\n",
        "    print(table)"
      ],
      "execution_count": 0,
      "outputs": []
    },
    {
      "cell_type": "code",
      "metadata": {
        "id": "VDhWFdtPZhOD",
        "colab_type": "code",
        "colab": {
          "base_uri": "https://localhost:8080/",
          "height": 54
        },
        "outputId": "666eb574-9e25-447b-bae6-0368674d6850"
      },
      "source": [
        "capdbCursor.execute(\"describe events_data\")\n",
        "print(capdbCursor.fetchall())"
      ],
      "execution_count": 53,
      "outputs": [
        {
          "output_type": "stream",
          "text": [
            "[('event_id', 'bigint(20)', 'NO', '', None, ''), ('device_id', 'bigint(255)', 'YES', '', None, ''), ('timestamp', 'datetime', 'NO', '', None, ''), ('longitude', 'float(8,6)', 'YES', '', None, ''), ('latitude', 'float(8,6)', 'YES', '', None, ''), ('city', 'varchar(50)', 'NO', '', None, ''), ('state', 'varchar(50)', 'NO', '', None, '')]\n"
          ],
          "name": "stdout"
        }
      ]
    },
    {
      "cell_type": "code",
      "metadata": {
        "id": "c90zoH0Vcs-0",
        "colab_type": "code",
        "colab": {}
      },
      "source": [
        "capdbCursor.execute(\"select count(*) from events_data where state = 'delhi'\")\n",
        "capdbRecords = capdbCursor.fetchall()\n",
        "for record in capdbRecords:\n",
        "    print(record)"
      ],
      "execution_count": 0,
      "outputs": []
    },
    {
      "cell_type": "code",
      "metadata": {
        "id": "KBMmRhMBZxXc",
        "colab_type": "code",
        "colab": {
          "base_uri": "https://localhost:8080/",
          "height": 54
        },
        "outputId": "2fbcc881-0056-4d5e-821e-ce3403723e30"
      },
      "source": [
        "capdbCursor.execute(\"describe phone_brand_device_model\")\n",
        "print(capdbCursor.fetchall())"
      ],
      "execution_count": 52,
      "outputs": [
        {
          "output_type": "stream",
          "text": [
            "[('device_id', 'bigint(255)', 'NO', '', None, ''), ('phone_brand', 'varchar(2555)', 'NO', '', None, ''), ('device_model', 'varchar(2555)', 'NO', '', None, '')]\n"
          ],
          "name": "stdout"
        }
      ]
    },
    {
      "cell_type": "code",
      "metadata": {
        "id": "q4arrw-IdB73",
        "colab_type": "code",
        "colab": {}
      },
      "source": [
        "capdbCursor.execute(\"select count(*)\",\n",
        "                    \"from phone_brand_device_model m\",\n",
        "                    \"left join events_data e\",\n",
        "                    \"where e.state = 'delhi'\")\n",
        "capdbRecords = capdbCursor.fetchall()\n",
        "for record in capdbRecords:\n",
        "    print(record)"
      ],
      "execution_count": 0,
      "outputs": []
    }
  ]
}