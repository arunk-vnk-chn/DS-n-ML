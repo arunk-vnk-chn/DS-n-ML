{
  "nbformat": 4,
  "nbformat_minor": 0,
  "metadata": {
    "kernelspec": {
      "display_name": "Python 3",
      "language": "python",
      "name": "python3"
    },
    "language_info": {
      "codemirror_mode": {
        "name": "ipython",
        "version": 3
      },
      "file_extension": ".py",
      "mimetype": "text/x-python",
      "name": "python",
      "nbconvert_exporter": "python",
      "pygments_lexer": "ipython3",
      "version": "3.6.5"
    },
    "colab": {
      "name": "INSAID DS capstone project.ipynb",
      "provenance": []
    }
  },
  "cells": [
    {
      "cell_type": "markdown",
      "metadata": {
        "id": "djjqQcY9prwL",
        "colab_type": "text"
      },
      "source": [
        "##INSAID Capstone project - group 1015"
      ]
    },
    {
      "cell_type": "markdown",
      "metadata": {
        "id": "Sb4LH81hY_IE",
        "colab_type": "text"
      },
      "source": [
        "###Installing and importing mysql.connector/python"
      ]
    },
    {
      "cell_type": "code",
      "metadata": {
        "id": "3cVnLKnES8bD",
        "colab_type": "code",
        "outputId": "2a272186-d5be-4956-da22-97025368cc75",
        "colab": {
          "base_uri": "https://localhost:8080/",
          "height": 121
        }
      },
      "source": [
        "!pip install --user mysql-connector-python"
      ],
      "execution_count": 266,
      "outputs": [
        {
          "output_type": "stream",
          "text": [
            "Requirement already satisfied: mysql-connector-python in /root/.local/lib/python3.6/site-packages (8.0.19)\n",
            "Requirement already satisfied: protobuf==3.6.1 in /root/.local/lib/python3.6/site-packages (from mysql-connector-python) (3.6.1)\n",
            "Requirement already satisfied: dnspython==1.16.0 in /root/.local/lib/python3.6/site-packages (from mysql-connector-python) (1.16.0)\n",
            "Requirement already satisfied: six>=1.9 in /usr/local/lib/python3.6/dist-packages (from protobuf==3.6.1->mysql-connector-python) (1.12.0)\n",
            "Requirement already satisfied: setuptools in /usr/local/lib/python3.6/dist-packages (from protobuf==3.6.1->mysql-connector-python) (45.1.0)\n"
          ],
          "name": "stdout"
        }
      ]
    },
    {
      "cell_type": "code",
      "metadata": {
        "id": "259wDTCcUk4X",
        "colab_type": "code",
        "colab": {}
      },
      "source": [
        "import mysql.connector\n",
        "import pandas as pd"
      ],
      "execution_count": 0,
      "outputs": []
    },
    {
      "cell_type": "markdown",
      "metadata": {
        "id": "q6AUOUnqZQRS",
        "colab_type": "text"
      },
      "source": [
        "###Creating db connection and storing in capdb"
      ]
    },
    {
      "cell_type": "code",
      "metadata": {
        "id": "sdh4SQTKUk0r",
        "colab_type": "code",
        "colab": {}
      },
      "source": [
        " capdbConfig = {\n",
        "     'host' : 'cpanel.insaid.co',\n",
        "     'user' : 'student',\n",
        "      'password' : 'student', \n",
        "      'database' : 'Capstone1',\n",
        "      #increasing connection_timeout to support fetching larger results - doesn't seem to have any impact though\n",
        "      'connection_timeout' : 1000,\n",
        "      'use_pure' : False\n",
        "      #use_pure = False ensures the C extension is used for MySQL connection which is faster than pure python connection\n",
        "      #false is the default value for a connection in newer MySQL versions(>8); here it is included as version is not known\n",
        " }\n",
        " capdb = mysql.connector.connect(**capdbConfig)"
      ],
      "execution_count": 0,
      "outputs": []
    },
    {
      "cell_type": "markdown",
      "metadata": {
        "id": "UpniPrnRZW5C",
        "colab_type": "text"
      },
      "source": [
        "###Creating python cursor for executing mysql queries, checking tables, structures and count"
      ]
    },
    {
      "cell_type": "code",
      "metadata": {
        "id": "BtvmwrbeWzG_",
        "colab_type": "code",
        "colab": {}
      },
      "source": [
        "capdbCursor = capdb.cursor()\n",
        "#below code intended to set max served packet size as 1 GB (to fetch large data) - but access denied in python client \n",
        "#capdbCursor.execute(\"SET GLOBAL max_allowed_packet=1024*1024*1024\")"
      ],
      "execution_count": 0,
      "outputs": []
    },
    {
      "cell_type": "code",
      "metadata": {
        "id": "PK-uDH7OXbqL",
        "colab_type": "code",
        "outputId": "928ef0b4-e133-4e20-9f0f-26b802971988",
        "colab": {
          "base_uri": "https://localhost:8080/",
          "height": 67
        }
      },
      "source": [
        "#closing and recreating cursor each time to ensure reduced load on next data fetch\n",
        "capdbCursor.close()\n",
        "capdbCursor = capdb.cursor()\n",
        "capdbCursor.execute(\"show tables\")\n",
        "capdbTables = capdbCursor.fetchall()\n",
        "for table in capdbTables:\n",
        "    print(table)"
      ],
      "execution_count": 270,
      "outputs": [
        {
          "output_type": "stream",
          "text": [
            "('events_data',)\n",
            "('gender_age_train',)\n",
            "('phone_brand_device_model',)\n"
          ],
          "name": "stdout"
        }
      ]
    },
    {
      "cell_type": "code",
      "metadata": {
        "id": "VDhWFdtPZhOD",
        "colab_type": "code",
        "colab": {
          "base_uri": "https://localhost:8080/",
          "height": 54
        },
        "outputId": "25fa804a-5fc4-4a9f-9ed3-2719cc178fd5"
      },
      "source": [
        "capdbCursor.close()\n",
        "capdbCursor = capdb.cursor()\n",
        "capdbCursor.execute(\"describe events_data\")\n",
        "#fetchall fetches all records retrieved in cursor in a single go\n",
        "#fetchall works fine when queried table is of small size\n",
        "print(capdbCursor.fetchall())"
      ],
      "execution_count": 271,
      "outputs": [
        {
          "output_type": "stream",
          "text": [
            "[('event_id', 'bigint(20)', 'NO', '', None, ''), ('device_id', 'bigint(255)', 'YES', '', None, ''), ('timestamp', 'datetime', 'NO', '', None, ''), ('longitude', 'float(8,6)', 'YES', '', None, ''), ('latitude', 'float(8,6)', 'YES', '', None, ''), ('city', 'varchar(50)', 'NO', '', None, ''), ('state', 'varchar(50)', 'NO', '', None, '')]\n"
          ],
          "name": "stdout"
        }
      ]
    },
    {
      "cell_type": "code",
      "metadata": {
        "id": "c90zoH0Vcs-0",
        "colab_type": "code",
        "colab": {
          "base_uri": "https://localhost:8080/",
          "height": 34
        },
        "outputId": "a296cf91-9cec-466d-defe-32b6c09abd89"
      },
      "source": [
        "capdbCursor.close()\n",
        "capdbCursor = capdb.cursor()\n",
        "query =   \"\"\"select count(*)\n",
        "            from events_data\n",
        "            where state = 'delhi'\"\"\"\n",
        "capdbCursor.execute(query)\n",
        "#fetchone fetches single record retrieved in cursor\n",
        "#fetchone is useful when only one record result is expected\n",
        "#SQL connection is lost if fetchall is used for large size table\n",
        "capdbRecords = capdbCursor.fetchone()\n",
        "for record in capdbRecords:\n",
        "    print(record)"
      ],
      "execution_count": 272,
      "outputs": [
        {
          "output_type": "stream",
          "text": [
            "751733\n"
          ],
          "name": "stdout"
        }
      ]
    },
    {
      "cell_type": "code",
      "metadata": {
        "id": "-pI72pwM3emq",
        "colab_type": "code",
        "colab": {
          "base_uri": "https://localhost:8080/",
          "height": 77
        },
        "outputId": "b0b172a7-1096-40fa-ac13-b307840c0844"
      },
      "source": [
        "capdbCursor.close()\n",
        "capdbCursor = capdb.cursor()\n",
        "#fetching single record to create pandas dataframe\n",
        "query =   \"\"\"select *\n",
        "            from events_data\n",
        "            where state = 'delhi'\n",
        "            limit 1\"\"\"\n",
        "capdbCursor.execute(query)\n",
        "capdbRecords = capdbCursor.fetchall()\n",
        "#to check data format is correct\n",
        "eventsData"
      ],
      "execution_count": 273,
      "outputs": [
        {
          "output_type": "execute_result",
          "data": {
            "text/html": [
              "<div>\n",
              "<style scoped>\n",
              "    .dataframe tbody tr th:only-of-type {\n",
              "        vertical-align: middle;\n",
              "    }\n",
              "\n",
              "    .dataframe tbody tr th {\n",
              "        vertical-align: top;\n",
              "    }\n",
              "\n",
              "    .dataframe thead th {\n",
              "        text-align: right;\n",
              "    }\n",
              "</style>\n",
              "<table border=\"1\" class=\"dataframe\">\n",
              "  <thead>\n",
              "    <tr style=\"text-align: right;\">\n",
              "      <th></th>\n",
              "      <th>event_id</th>\n",
              "      <th>device_id</th>\n",
              "      <th>timestamp</th>\n",
              "      <th>longitude</th>\n",
              "      <th>longitude</th>\n",
              "      <th>city</th>\n",
              "      <th>state</th>\n",
              "    </tr>\n",
              "  </thead>\n",
              "  <tbody>\n",
              "    <tr>\n",
              "      <th>0</th>\n",
              "      <td>1</td>\n",
              "      <td>29182687948017175</td>\n",
              "      <td>2016-05-01 00:55:25</td>\n",
              "      <td>77.266052</td>\n",
              "      <td>28.68161</td>\n",
              "      <td>Delhi</td>\n",
              "      <td>Delhi</td>\n",
              "    </tr>\n",
              "  </tbody>\n",
              "</table>\n",
              "</div>"
            ],
            "text/plain": [
              "   event_id          device_id           timestamp  ...  longitude   city  state\n",
              "0         1  29182687948017175 2016-05-01 00:55:25  ...   28.68161  Delhi  Delhi\n",
              "\n",
              "[1 rows x 7 columns]"
            ]
          },
          "metadata": {
            "tags": []
          },
          "execution_count": 273
        }
      ]
    },
    {
      "cell_type": "code",
      "metadata": {
        "id": "O9x8Ju9-58kh",
        "colab_type": "code",
        "colab": {
          "base_uri": "https://localhost:8080/",
          "height": 77
        },
        "outputId": "ddbba0f6-8825-4399-de6b-3ac44d99d4f4"
      },
      "source": [
        "capdbCursor.close()\n",
        "capdbCursor = capdb.cursor()\n",
        "query =   \"\"\"select *\n",
        "            from events_data\n",
        "            where state = 'delhi'\"\"\"\n",
        "capdbCursor.execute(query)\n",
        "\n",
        "while True:\n",
        "  #fetching 100 records at a time and appending to previously created df 'eventsData' till all records fetched\n",
        "  result = capdbCursor.fetchmany(100)\n",
        "  if not result:\n",
        "    sys.exit(\"Complete\")\n",
        "  else:\n",
        "    dfTemp = pd.DataFrame(capdbRecords)\n",
        "    eventsData.append(dfTemp)\n",
        "\n",
        "#dropping the first record as it was fetched initially as well, hence duplicate\n",
        "eventsData.drop([0],axis=0,inplace=True)\n",
        "\n",
        "#setting column names\n",
        "eventsData.columns = ['event_id', 'device_id', 'timestamp', 'longitude', 'longitude', 'city', 'state']\n",
        "\n",
        "#check column and row count\n",
        "eventsData.shape "
      ],
      "execution_count": 274,
      "outputs": [
        {
          "output_type": "execute_result",
          "data": {
            "text/html": [
              "<div>\n",
              "<style scoped>\n",
              "    .dataframe tbody tr th:only-of-type {\n",
              "        vertical-align: middle;\n",
              "    }\n",
              "\n",
              "    .dataframe tbody tr th {\n",
              "        vertical-align: top;\n",
              "    }\n",
              "\n",
              "    .dataframe thead th {\n",
              "        text-align: right;\n",
              "    }\n",
              "</style>\n",
              "<table border=\"1\" class=\"dataframe\">\n",
              "  <thead>\n",
              "    <tr style=\"text-align: right;\">\n",
              "      <th></th>\n",
              "      <th>0</th>\n",
              "      <th>1</th>\n",
              "      <th>2</th>\n",
              "      <th>3</th>\n",
              "      <th>4</th>\n",
              "      <th>5</th>\n",
              "      <th>6</th>\n",
              "    </tr>\n",
              "  </thead>\n",
              "  <tbody>\n",
              "    <tr>\n",
              "      <th>0</th>\n",
              "      <td>1</td>\n",
              "      <td>29182687948017175</td>\n",
              "      <td>2016-05-01 00:55:25</td>\n",
              "      <td>77.266052</td>\n",
              "      <td>28.68161</td>\n",
              "      <td>Delhi</td>\n",
              "      <td>Delhi</td>\n",
              "    </tr>\n",
              "  </tbody>\n",
              "</table>\n",
              "</div>"
            ],
            "text/plain": [
              "   0                  1                   2          3         4      5      6\n",
              "0  1  29182687948017175 2016-05-01 00:55:25  77.266052  28.68161  Delhi  Delhi"
            ]
          },
          "metadata": {
            "tags": []
          },
          "execution_count": 274
        }
      ]
    },
    {
      "cell_type": "code",
      "metadata": {
        "id": "KBMmRhMBZxXc",
        "colab_type": "code",
        "colab": {
          "base_uri": "https://localhost:8080/",
          "height": 320
        },
        "outputId": "ef9b9470-d649-4882-eb3e-fe35a3faa077"
      },
      "source": [
        "capdbCursor.close()\n",
        "capdbCursor = capdb.cursor()\n",
        "capdbCursor.execute(\"describe phone_brand_device_model\")\n",
        "print(capdbCursor.fetchall())"
      ],
      "execution_count": 275,
      "outputs": [
        {
          "output_type": "error",
          "ename": "InternalError",
          "evalue": "ignored",
          "traceback": [
            "\u001b[0;31m---------------------------------------------------------------------------\u001b[0m",
            "\u001b[0;31mInternalError\u001b[0m                             Traceback (most recent call last)",
            "\u001b[0;32m<ipython-input-275-db9dc92285e1>\u001b[0m in \u001b[0;36m<module>\u001b[0;34m()\u001b[0m\n\u001b[0;32m----> 1\u001b[0;31m \u001b[0mcapdbCursor\u001b[0m\u001b[0;34m.\u001b[0m\u001b[0mclose\u001b[0m\u001b[0;34m(\u001b[0m\u001b[0;34m)\u001b[0m\u001b[0;34m\u001b[0m\u001b[0;34m\u001b[0m\u001b[0m\n\u001b[0m\u001b[1;32m      2\u001b[0m \u001b[0mcapdbCursor\u001b[0m \u001b[0;34m=\u001b[0m \u001b[0mcapdb\u001b[0m\u001b[0;34m.\u001b[0m\u001b[0mcursor\u001b[0m\u001b[0;34m(\u001b[0m\u001b[0;34m)\u001b[0m\u001b[0;34m\u001b[0m\u001b[0;34m\u001b[0m\u001b[0m\n\u001b[1;32m      3\u001b[0m \u001b[0mcapdbCursor\u001b[0m\u001b[0;34m.\u001b[0m\u001b[0mexecute\u001b[0m\u001b[0;34m(\u001b[0m\u001b[0;34m\"describe phone_brand_device_model\"\u001b[0m\u001b[0;34m)\u001b[0m\u001b[0;34m\u001b[0m\u001b[0;34m\u001b[0m\u001b[0m\n\u001b[1;32m      4\u001b[0m \u001b[0mprint\u001b[0m\u001b[0;34m(\u001b[0m\u001b[0mcapdbCursor\u001b[0m\u001b[0;34m.\u001b[0m\u001b[0mfetchall\u001b[0m\u001b[0;34m(\u001b[0m\u001b[0;34m)\u001b[0m\u001b[0;34m)\u001b[0m\u001b[0;34m\u001b[0m\u001b[0;34m\u001b[0m\u001b[0m\n",
            "\u001b[0;32m/root/.local/lib/python3.6/site-packages/mysql/connector/cursor_cext.py\u001b[0m in \u001b[0;36mclose\u001b[0;34m(self)\u001b[0m\n\u001b[1;32m    400\u001b[0m             \u001b[0;32mreturn\u001b[0m \u001b[0;32mFalse\u001b[0m\u001b[0;34m\u001b[0m\u001b[0;34m\u001b[0m\u001b[0m\n\u001b[1;32m    401\u001b[0m \u001b[0;34m\u001b[0m\u001b[0m\n\u001b[0;32m--> 402\u001b[0;31m         \u001b[0mself\u001b[0m\u001b[0;34m.\u001b[0m\u001b[0m_cnx\u001b[0m\u001b[0;34m.\u001b[0m\u001b[0mhandle_unread_result\u001b[0m\u001b[0;34m(\u001b[0m\u001b[0;34m)\u001b[0m\u001b[0;34m\u001b[0m\u001b[0;34m\u001b[0m\u001b[0m\n\u001b[0m\u001b[1;32m    403\u001b[0m         \u001b[0mself\u001b[0m\u001b[0;34m.\u001b[0m\u001b[0m_warnings\u001b[0m \u001b[0;34m=\u001b[0m \u001b[0;32mNone\u001b[0m\u001b[0;34m\u001b[0m\u001b[0;34m\u001b[0m\u001b[0m\n\u001b[1;32m    404\u001b[0m         \u001b[0mself\u001b[0m\u001b[0;34m.\u001b[0m\u001b[0m_cnx\u001b[0m \u001b[0;34m=\u001b[0m \u001b[0;32mNone\u001b[0m\u001b[0;34m\u001b[0m\u001b[0;34m\u001b[0m\u001b[0m\n",
            "\u001b[0;32m/root/.local/lib/python3.6/site-packages/mysql/connector/connection_cext.py\u001b[0m in \u001b[0;36mhandle_unread_result\u001b[0;34m(self, prepared)\u001b[0m\n\u001b[1;32m    710\u001b[0m             \u001b[0mself\u001b[0m\u001b[0;34m.\u001b[0m\u001b[0mconsume_results\u001b[0m\u001b[0;34m(\u001b[0m\u001b[0;34m)\u001b[0m\u001b[0;34m\u001b[0m\u001b[0;34m\u001b[0m\u001b[0m\n\u001b[1;32m    711\u001b[0m         \u001b[0;32melif\u001b[0m \u001b[0munread_result\u001b[0m\u001b[0;34m:\u001b[0m\u001b[0;34m\u001b[0m\u001b[0;34m\u001b[0m\u001b[0m\n\u001b[0;32m--> 712\u001b[0;31m             \u001b[0;32mraise\u001b[0m \u001b[0merrors\u001b[0m\u001b[0;34m.\u001b[0m\u001b[0mInternalError\u001b[0m\u001b[0;34m(\u001b[0m\u001b[0;34m\"Unread result found\"\u001b[0m\u001b[0;34m)\u001b[0m\u001b[0;34m\u001b[0m\u001b[0;34m\u001b[0m\u001b[0m\n\u001b[0m",
            "\u001b[0;31mInternalError\u001b[0m: Unread result found"
          ]
        }
      ]
    },
    {
      "cell_type": "markdown",
      "metadata": {
        "id": "WygbzjSqpli3",
        "colab_type": "text"
      },
      "source": [
        "### Closing db connection"
      ]
    },
    {
      "cell_type": "code",
      "metadata": {
        "id": "G3yMvVMhpiOr",
        "colab_type": "code",
        "colab": {}
      },
      "source": [
        "capdb.close()"
      ],
      "execution_count": 0,
      "outputs": []
    }
  ]
}